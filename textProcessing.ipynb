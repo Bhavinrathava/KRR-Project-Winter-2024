{
 "cells": [
  {
   "cell_type": "code",
   "execution_count": 1,
   "metadata": {},
   "outputs": [],
   "source": [
    "import pandas as pd"
   ]
  },
  {
   "cell_type": "code",
   "execution_count": 2,
   "metadata": {},
   "outputs": [],
   "source": [
    "df = pd.read_csv(\"GameEntities.csv\")"
   ]
  },
  {
   "cell_type": "code",
   "execution_count": 9,
   "metadata": {},
   "outputs": [
    {
     "data": {
      "text/html": [
       "<div>\n",
       "<style scoped>\n",
       "    .dataframe tbody tr th:only-of-type {\n",
       "        vertical-align: middle;\n",
       "    }\n",
       "\n",
       "    .dataframe tbody tr th {\n",
       "        vertical-align: top;\n",
       "    }\n",
       "\n",
       "    .dataframe thead th {\n",
       "        text-align: right;\n",
       "    }\n",
       "</style>\n",
       "<table border=\"1\" class=\"dataframe\">\n",
       "  <thead>\n",
       "    <tr style=\"text-align: right;\">\n",
       "      <th></th>\n",
       "      <th>video_game</th>\n",
       "      <th>video_gameLabel</th>\n",
       "      <th>Entities</th>\n",
       "    </tr>\n",
       "  </thead>\n",
       "  <tbody>\n",
       "    <tr>\n",
       "      <th>0</th>\n",
       "      <td>http://www.wikidata.org/entity/Q2374</td>\n",
       "      <td>Civilization III</td>\n",
       "      <td>http://www.wikidata.org/entity/Q2374</td>\n",
       "    </tr>\n",
       "    <tr>\n",
       "      <th>1</th>\n",
       "      <td>http://www.wikidata.org/entity/Q2377</td>\n",
       "      <td>Civilization IV</td>\n",
       "      <td>http://www.wikidata.org/entity/Q2377</td>\n",
       "    </tr>\n",
       "    <tr>\n",
       "      <th>2</th>\n",
       "      <td>http://www.wikidata.org/entity/Q2385</td>\n",
       "      <td>Civilization V</td>\n",
       "      <td>http://www.wikidata.org/entity/Q2385</td>\n",
       "    </tr>\n",
       "    <tr>\n",
       "      <th>3</th>\n",
       "      <td>http://www.wikidata.org/entity/Q2387</td>\n",
       "      <td>Commandos 2: Men of Courage</td>\n",
       "      <td>http://www.wikidata.org/entity/Q2387</td>\n",
       "    </tr>\n",
       "    <tr>\n",
       "      <th>4</th>\n",
       "      <td>http://www.wikidata.org/entity/Q2440</td>\n",
       "      <td>Freedom Force vs the 3rd Reich</td>\n",
       "      <td>http://www.wikidata.org/entity/Q2440</td>\n",
       "    </tr>\n",
       "  </tbody>\n",
       "</table>\n",
       "</div>"
      ],
      "text/plain": [
       "                             video_game                 video_gameLabel  \\\n",
       "0  http://www.wikidata.org/entity/Q2374                Civilization III   \n",
       "1  http://www.wikidata.org/entity/Q2377                 Civilization IV   \n",
       "2  http://www.wikidata.org/entity/Q2385                  Civilization V   \n",
       "3  http://www.wikidata.org/entity/Q2387     Commandos 2: Men of Courage   \n",
       "4  http://www.wikidata.org/entity/Q2440  Freedom Force vs the 3rd Reich   \n",
       "\n",
       "                               Entities  \n",
       "0  http://www.wikidata.org/entity/Q2374  \n",
       "1  http://www.wikidata.org/entity/Q2377  \n",
       "2  http://www.wikidata.org/entity/Q2385  \n",
       "3  http://www.wikidata.org/entity/Q2387  \n",
       "4  http://www.wikidata.org/entity/Q2440  "
      ]
     },
     "execution_count": 9,
     "metadata": {},
     "output_type": "execute_result"
    }
   ],
   "source": [
    "df.head()\n"
   ]
  },
  {
   "cell_type": "code",
   "execution_count": 7,
   "metadata": {},
   "outputs": [],
   "source": [
    "def mappingFunction(s):\n",
    "    arr =  s.split(\"/\")\n",
    "    return arr[-1]"
   ]
  },
  {
   "cell_type": "code",
   "execution_count": 10,
   "metadata": {},
   "outputs": [],
   "source": [
    "df[\"Entities\"] = df[\"Entities\"].map(mappingFunction)"
   ]
  },
  {
   "cell_type": "code",
   "execution_count": 11,
   "metadata": {},
   "outputs": [
    {
     "data": {
      "text/html": [
       "<div>\n",
       "<style scoped>\n",
       "    .dataframe tbody tr th:only-of-type {\n",
       "        vertical-align: middle;\n",
       "    }\n",
       "\n",
       "    .dataframe tbody tr th {\n",
       "        vertical-align: top;\n",
       "    }\n",
       "\n",
       "    .dataframe thead th {\n",
       "        text-align: right;\n",
       "    }\n",
       "</style>\n",
       "<table border=\"1\" class=\"dataframe\">\n",
       "  <thead>\n",
       "    <tr style=\"text-align: right;\">\n",
       "      <th></th>\n",
       "      <th>video_game</th>\n",
       "      <th>video_gameLabel</th>\n",
       "      <th>Entities</th>\n",
       "    </tr>\n",
       "  </thead>\n",
       "  <tbody>\n",
       "    <tr>\n",
       "      <th>0</th>\n",
       "      <td>http://www.wikidata.org/entity/Q2374</td>\n",
       "      <td>Civilization III</td>\n",
       "      <td>Q2374</td>\n",
       "    </tr>\n",
       "    <tr>\n",
       "      <th>1</th>\n",
       "      <td>http://www.wikidata.org/entity/Q2377</td>\n",
       "      <td>Civilization IV</td>\n",
       "      <td>Q2377</td>\n",
       "    </tr>\n",
       "    <tr>\n",
       "      <th>2</th>\n",
       "      <td>http://www.wikidata.org/entity/Q2385</td>\n",
       "      <td>Civilization V</td>\n",
       "      <td>Q2385</td>\n",
       "    </tr>\n",
       "    <tr>\n",
       "      <th>3</th>\n",
       "      <td>http://www.wikidata.org/entity/Q2387</td>\n",
       "      <td>Commandos 2: Men of Courage</td>\n",
       "      <td>Q2387</td>\n",
       "    </tr>\n",
       "    <tr>\n",
       "      <th>4</th>\n",
       "      <td>http://www.wikidata.org/entity/Q2440</td>\n",
       "      <td>Freedom Force vs the 3rd Reich</td>\n",
       "      <td>Q2440</td>\n",
       "    </tr>\n",
       "  </tbody>\n",
       "</table>\n",
       "</div>"
      ],
      "text/plain": [
       "                             video_game                 video_gameLabel  \\\n",
       "0  http://www.wikidata.org/entity/Q2374                Civilization III   \n",
       "1  http://www.wikidata.org/entity/Q2377                 Civilization IV   \n",
       "2  http://www.wikidata.org/entity/Q2385                  Civilization V   \n",
       "3  http://www.wikidata.org/entity/Q2387     Commandos 2: Men of Courage   \n",
       "4  http://www.wikidata.org/entity/Q2440  Freedom Force vs the 3rd Reich   \n",
       "\n",
       "  Entities  \n",
       "0    Q2374  \n",
       "1    Q2377  \n",
       "2    Q2385  \n",
       "3    Q2387  \n",
       "4    Q2440  "
      ]
     },
     "execution_count": 11,
     "metadata": {},
     "output_type": "execute_result"
    }
   ],
   "source": [
    "df.head()"
   ]
  },
  {
   "cell_type": "code",
   "execution_count": 12,
   "metadata": {},
   "outputs": [],
   "source": [
    "df.to_csv(\"GameEntities.csv\", index=False)"
   ]
  },
  {
   "cell_type": "code",
   "execution_count": null,
   "metadata": {},
   "outputs": [],
   "source": []
  }
 ],
 "metadata": {
  "kernelspec": {
   "display_name": "Python 3",
   "language": "python",
   "name": "python3"
  },
  "language_info": {
   "codemirror_mode": {
    "name": "ipython",
    "version": 3
   },
   "file_extension": ".py",
   "mimetype": "text/x-python",
   "name": "python",
   "nbconvert_exporter": "python",
   "pygments_lexer": "ipython3",
   "version": "3.9.18"
  }
 },
 "nbformat": 4,
 "nbformat_minor": 2
}
